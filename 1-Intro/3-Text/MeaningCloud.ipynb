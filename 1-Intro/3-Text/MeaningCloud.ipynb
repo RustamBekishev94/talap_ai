{
 "cells": [
  {
   "cell_type": "markdown",
   "metadata": {},
   "source": [
    "## Используем сервис MeaningCloud\n",
    "\n",
    "Сервис [MeaningCloud.com](http://MeaningCloud.com) предоставляет 20000 запросов в месяц, и содержит продвинутые средства анализа естественного языка на нескольких языках.\n",
    "\n",
    "Вам необходимо войти в сервис с помощью GitHub или зарегистрировшись на нём, после чего вы сразу получите ключ для вызова API.\n",
    "\n",
    "Попробуем использовать сервис для извлечения ключевых слов и анализа предложений (topic modeling):"
   ]
  },
  {
   "cell_type": "code",
   "execution_count": 2,
   "metadata": {},
   "outputs": [
    {
     "data": {
      "text/plain": [
       "{'concept_list': [],\n",
       " 'entity_list': [{'form': 'Turin',\n",
       "   'id': '0729ecde4a',\n",
       "   'relevance': '100',\n",
       "   'sementity': {'class': 'instance',\n",
       "    'fiction': 'nonfiction',\n",
       "    'id': 'ODENTITY_CITY',\n",
       "    'type': 'Top>Location>GeoPoliticalEntity>City'},\n",
       "   'semgeo_list': [{'adm1': {'form': 'Piemonte', 'id': '25836717d4'},\n",
       "     'adm2': {'form': 'Turin', 'id': '4ccf5970b7'},\n",
       "     'continent': {'form': 'Europe', 'id': '0404ea4d6c'},\n",
       "     'country': {'form': 'Italy',\n",
       "      'id': '85c9d18db8',\n",
       "      'standard_list': [{'id': 'ISO3166-1-a2', 'value': 'IT'},\n",
       "       {'id': 'ISO3166-1-a3', 'value': 'ITA'}]}}],\n",
       "   'semld_list': ['http://en.wikipedia.org/wiki/Turin',\n",
       "    'http://ar.wikipedia.org/wiki/تورينو',\n",
       "    'http://ca.wikipedia.org/wiki/Torí',\n",
       "    'http://cs.wikipedia.org/wiki/Turín',\n",
       "    'http://da.wikipedia.org/wiki/Torino',\n",
       "    'http://de.wikipedia.org/wiki/Turin',\n",
       "    'http://es.wikipedia.org/wiki/Turín',\n",
       "    'http://fi.wikipedia.org/wiki/Torino',\n",
       "    'http://fr.wikipedia.org/wiki/Turin',\n",
       "    'http://he.wikipedia.org/wiki/טורינו',\n",
       "    'http://hi.wikipedia.org/wiki/टोरीनो',\n",
       "    'http://id.wikipedia.org/wiki/Torino',\n",
       "    'http://it.wikipedia.org/wiki/Torino',\n",
       "    'http://ja.wikipedia.org/wiki/トリノ',\n",
       "    'http://ko.wikipedia.org/wiki/토리노',\n",
       "    'http://nl.wikipedia.org/wiki/Turijn_(stad)',\n",
       "    'http://no.wikipedia.org/wiki/Torino',\n",
       "    'http://pl.wikipedia.org/wiki/Turyn',\n",
       "    'http://pt.wikipedia.org/wiki/Turim',\n",
       "    'http://ro.wikipedia.org/wiki/Torino',\n",
       "    'http://ru.wikipedia.org/wiki/Турин',\n",
       "    'http://sv.wikipedia.org/wiki/Turin',\n",
       "    'http://th.wikipedia.org/wiki/ตูริน',\n",
       "    'http://tr.wikipedia.org/wiki/Torino',\n",
       "    'http://zh.wikipedia.org/wiki/都灵',\n",
       "    'http://d-nb.info/gnd/4061245-4',\n",
       "    'http://data.linkedopendata.it/scuole/resource/TORINO',\n",
       "    'http://linkedgeodata.org/triplify/node63621589',\n",
       "    'http://data.nytimes.com/56456879546001028381',\n",
       "    'http://sws.geonames.org/3165524/',\n",
       "    'http://www.w3.org/2006/03/wn/wn20/instances/synset-city-noun-3',\n",
       "    '@TorinoFC_1906',\n",
       "    '@Torino_LaStampa',\n",
       "    '@Torino_VAVEL',\n",
       "    '@TweetsTorino',\n",
       "    'sumo:City'],\n",
       "   'variant_list': [{'endp': '27', 'form': 'Torino', 'inip': '22'}]}],\n",
       " 'money_expression_list': [],\n",
       " 'other_expression_list': [],\n",
       " 'quantity_expression_list': [{'amount_form': 'two',\n",
       "   'endp': '76',\n",
       "   'form': 'two times',\n",
       "   'inip': '68',\n",
       "   'numeric_value': '2',\n",
       "   'unit': 'time'}],\n",
       " 'quotation_list': [],\n",
       " 'relation_list': [{'complement_list': [],\n",
       "   'degree': '1',\n",
       "   'endp': '77',\n",
       "   'form': 'I would love to visit Torino one day, even though I have been there two times!',\n",
       "   'inip': '0',\n",
       "   'subject': {'form': 'I',\n",
       "    'lemma_list': ['I'],\n",
       "    'sense_id_list': ['PRONHUMAN']},\n",
       "   'verb': {'form': 'would love', 'lemma_list': ['love']}},\n",
       "  {'complement_list': [{'form': 'there', 'type': 'isLocationComplement'},\n",
       "    {'form': 'two times', 'type': 'isTimeComplement'}],\n",
       "   'degree': '1',\n",
       "   'endp': '76',\n",
       "   'form': 'I would love to visit Torino one day, even though I have been there two times!',\n",
       "   'inip': '38',\n",
       "   'subject': {'form': 'I',\n",
       "    'lemma_list': ['I'],\n",
       "    'sense_id_list': ['PRONHUMAN']},\n",
       "   'verb': {'form': 'have been', 'lemma_list': ['be']}}],\n",
       " 'status': {'code': '0',\n",
       "  'msg': 'OK',\n",
       "  'credits': '1',\n",
       "  'remaining_credits': '19992'},\n",
       " 'time_expression_list': [{'actual_time': '2022-12-01',\n",
       "   'endp': '35',\n",
       "   'form': 'one day',\n",
       "   'inip': '29',\n",
       "   'normalized_form': '||||||1||||',\n",
       "   'precision': 'day'}]}"
      ]
     },
     "execution_count": 2,
     "metadata": {},
     "output_type": "execute_result"
    }
   ],
   "source": [
    "import requests\n",
    "import sys\n",
    "\n",
    "key = '=== YOUR KEY HERE ==='\n",
    "\n",
    "def analyze(x,lang='en',topics='a'):\n",
    "    url = \"https://api.meaningcloud.com/topics-2.0\"\n",
    "\n",
    "    payload={\n",
    "        'key': key,\n",
    "        'txt': x,\n",
    "        'lang': lang,  # 2-letter code, like en es fr ...\n",
    "        'tt': topics\n",
    "    }\n",
    "\n",
    "    response = requests.post(url, data=payload)\n",
    "    return response.json()\n",
    "\n",
    "#analyze('I would love to visit Torino one day; it seems like one of the best cities in Italy!')\n",
    "analyze('I would love to visit Torino one day, even though I have been there two times!')"
   ]
  },
  {
   "cell_type": "markdown",
   "metadata": {},
   "source": [
    "Интересно, что сервис осуществляет привязку объектов к некоторой [внутренней онтологии](https://www.meaningcloud.com/developer/documentation/ontology#ODTHEME_TOP), а также к внешним ссылкам на Wikipedia.\n",
    "\n",
    "Применим этот сервис к роману \"Анна Каренина\". Для начала разобьем текст на абзацы:"
   ]
  },
  {
   "cell_type": "code",
   "execution_count": 7,
   "metadata": {},
   "outputs": [
    {
     "data": {
      "text/plain": [
       "['Happy families are all alike; every unhappy family is unhappy in its own way.',\n",
       " 'Everything was in confusion in the Oblonskys’ house. The wife had discovered that the husband was carrying on an intrigue with a French girl, who had been a governess in their family, and she had announced to her husband that she could not go on living in the same house with him. This position of affairs had now lasted three days, and not only the husband and wife themselves, but all the members of their family and household, were painfully conscious of it. Every person in the house felt that there was no sense in their living together, and that the stray people brought together by chance in any inn had more in common with one another than they, the members of the family and household of the Oblonskys. The wife did not leave her own room, the husband had not been at home for three days. The children ran wild all over the house; the English governess quarreled with the housekeeper, and wrote to a friend asking her to look out for a new situation for her; the man-cook had walked off the day before just at dinner time; the kitchen-maid, and the coachman had given warning.',\n",
       " 'Three days after the quarrel, Prince Stepan Arkadyevitch Oblonsky—Stiva, as he was called in the fashionable world—woke up at his usual hour, that is, at eight o’clock in the morning, not in his wife’s bedroom, but on the leather-covered sofa in his study. He turned over his stout, well-cared-for person on the springy sofa, as though he would sink into a long sleep again; he vigorously embraced the pillow on the other side and buried his face in it; but all at once he jumped up, sat up on the sofa, and opened his eyes.',\n",
       " '“Yes, yes, how was it now?” he thought, going over his dream. “Now, how was it? To be sure! Alabin was giving a dinner at Darmstadt; no, not Darmstadt, but something American. Yes, but then, Darmstadt was in America. Yes, Alabin was giving a dinner on glass tables, and the tables sang, _Il mio tesoro_—not _Il mio tesoro_ though, but something better, and there were some sort of little decanters on the table, and they were women, too,” he remembered.',\n",
       " 'Stepan Arkadyevitch’s eyes twinkled gaily, and he pondered with a smile. “Yes, it was nice, very nice. There was a great deal more that was delightful, only there’s no putting it into words, or even expressing it in one’s thoughts awake.” And noticing a gleam of light peeping in beside one of the serge curtains, he cheerfully dropped his feet over the edge of the sofa, and felt about with them for his slippers, a present on his last birthday, worked for him by his wife on gold-colored morocco. And, as he had done every day for the last nine years, he stretched out his hand, without getting up, towards the place where his dressing-gown always hung in his bedroom. And thereupon he suddenly remembered that he was not sleeping in his wife’s room, but in his study, and why: the smile vanished from his face, he knitted his brows.']"
      ]
     },
     "execution_count": 7,
     "metadata": {},
     "output_type": "execute_result"
    }
   ],
   "source": [
    "text = open('d:/git/ai_miit/data/akar_en.txt',encoding='utf-8').read()\n",
    "novel = text[2:].split('\\n')[61:]\n",
    "\n",
    "def bypar(text):\n",
    "    s = \"\"\n",
    "    for x in text:\n",
    "        if x == \"\":\n",
    "            if s!=\"\":\n",
    "                yield s[:-1]\n",
    "            s=\"\"\n",
    "        else:\n",
    "            s+=x+\" \"\n",
    "\n",
    "list(bypar(novel))[:5]"
   ]
  },
  {
   "cell_type": "markdown",
   "metadata": {},
   "source": [
    "Выделим первые 5 абзацев:"
   ]
  },
  {
   "cell_type": "code",
   "execution_count": 8,
   "metadata": {},
   "outputs": [
    {
     "name": "stdout",
     "output_type": "stream",
     "text": [
      "Happy families are all alike; every unhappy family is unhappy in its own way.\n",
      "Everything was in confusion in the Oblonskys’ house. The wife had discovered that the husband was carrying on an intrigue with a French girl, who had been a governess in their family, and she had announced to her husband that she could not go on living in the same house with him. This position of affairs had now lasted three days, and not only the husband and wife themselves, but all the members of their family and household, were painfully conscious of it. Every person in the house felt that there was no sense in their living together, and that the stray people brought together by chance in any inn had more in common with one another than they, the members of the family and household of the Oblonskys. The wife did not leave her own room, the husband had not been at home for three days. The children ran wild all over the house; the English governess quarreled with the housekeeper, and wrote to a friend asking her to look out for a new situation for her; the man-cook had walked off the day before just at dinner time; the kitchen-maid, and the coachman had given warning.\n",
      "Three days after the quarrel, Prince Stepan Arkadyevitch Oblonsky—Stiva, as he was called in the fashionable world—woke up at his usual hour, that is, at eight o’clock in the morning, not in his wife’s bedroom, but on the leather-covered sofa in his study. He turned over his stout, well-cared-for person on the springy sofa, as though he would sink into a long sleep again; he vigorously embraced the pillow on the other side and buried his face in it; but all at once he jumped up, sat up on the sofa, and opened his eyes.\n",
      "“Yes, yes, how was it now?” he thought, going over his dream. “Now, how was it? To be sure! Alabin was giving a dinner at Darmstadt; no, not Darmstadt, but something American. Yes, but then, Darmstadt was in America. Yes, Alabin was giving a dinner on glass tables, and the tables sang, _Il mio tesoro_—not _Il mio tesoro_ though, but something better, and there were some sort of little decanters on the table, and they were women, too,” he remembered.\n",
      "Stepan Arkadyevitch’s eyes twinkled gaily, and he pondered with a smile. “Yes, it was nice, very nice. There was a great deal more that was delightful, only there’s no putting it into words, or even expressing it in one’s thoughts awake.” And noticing a gleam of light peeping in beside one of the serge curtains, he cheerfully dropped his feet over the edge of the sofa, and felt about with them for his slippers, a present on his last birthday, worked for him by his wife on gold-colored morocco. And, as he had done every day for the last nine years, he stretched out his hand, without getting up, towards the place where his dressing-gown always hung in his bedroom. And thereupon he suddenly remembered that he was not sleeping in his wife’s room, but in his study, and why: the smile vanished from his face, he knitted his brows.\n"
     ]
    }
   ],
   "source": [
    "import itertools as itt\n",
    "text = \"\\n\".join(itt.islice(bypar(novel),5))\n",
    "print(text)"
   ]
  },
  {
   "cell_type": "markdown",
   "metadata": {},
   "source": [
    "Проанализируем их как единый текст:"
   ]
  },
  {
   "cell_type": "code",
   "execution_count": 12,
   "metadata": {},
   "outputs": [],
   "source": [
    "res = analyze(text)"
   ]
  },
  {
   "cell_type": "markdown",
   "metadata": {},
   "source": [
    "Результат запишем в файл и посмотрим:"
   ]
  },
  {
   "cell_type": "code",
   "execution_count": 13,
   "metadata": {},
   "outputs": [],
   "source": [
    "import json\n",
    "with open('res.json','w',encoding='utf-8') as f:\n",
    "    json.dump(res,f)"
   ]
  },
  {
   "cell_type": "markdown",
   "metadata": {},
   "source": [
    "Видно, что текста анализируется целиком как единое целое - это удобно для выделения сущностей, но не удобно для анализа отдельных предложений. Поэтому вызовем сервис отдельно для предложения:"
   ]
  },
  {
   "cell_type": "code",
   "execution_count": 32,
   "metadata": {},
   "outputs": [
    {
     "data": {
      "text/plain": [
       "['Everything was in confusion in the Oblonskys’ house',\n",
       " 'The wife had discovered that the husband was carrying on an intrigue with a French girl, who had been a governess in their family, and she had announced to her husband that she could not go on living in the same house with him',\n",
       " 'This position of affairs had now lasted three days, and not only the husband and wife themselves, but all the members of their family and household, were painfully conscious of it',\n",
       " 'Every person in the house felt that there was no sense in their living together, and that the stray people brought together by chance in any inn had more in common with one another than they, the members of the family and household of the Oblonskys',\n",
       " 'The wife did not leave her own room, the husband had not been at home for three days',\n",
       " 'The children ran wild all over the house; the English governess quarreled with the housekeeper, and wrote to a friend asking her to look out for a new situation for her; the man-cook had walked off the day before just at dinner time; the kitchen-maid, and the coachman had given warning.']"
      ]
     },
     "execution_count": 32,
     "metadata": {},
     "output_type": "execute_result"
    }
   ],
   "source": [
    "text = next(itt.islice(bypar(novel),1,2))\n",
    "lines = text.split('. ')\n",
    "lines"
   ]
  },
  {
   "cell_type": "markdown",
   "metadata": {},
   "source": [
    "Проанализируем одно предложение. В этом примере: *The wife had discovered that the husband was carrying on an intrigue with a French girl, who had been a governess in their family, and she had announced to her husband that she could not go on living in the same house with him*"
   ]
  },
  {
   "cell_type": "code",
   "execution_count": 35,
   "metadata": {},
   "outputs": [],
   "source": [
    "res = analyze(lines[1])"
   ]
  },
  {
   "cell_type": "code",
   "execution_count": 36,
   "metadata": {},
   "outputs": [
    {
     "data": {
      "text/plain": [
       "{'concept_list': [{'form': 'husband',\n",
       "   'id': '6a17861b62',\n",
       "   'relevance': '100',\n",
       "   'sementity': {'class': 'class',\n",
       "    'fiction': 'nonfiction',\n",
       "    'id': 'ODENTITY_PERSON',\n",
       "    'type': 'Top>Person'},\n",
       "   'semld_list': ['http://en.wikipedia.org/wiki/Husband',\n",
       "    'http://ar.wikipedia.org/wiki/زوج',\n",
       "    'http://ca.wikipedia.org/wiki/Marit',\n",
       "    'http://he.wikipedia.org/wiki/בעל_(משפחה)',\n",
       "    'http://id.wikipedia.org/wiki/Suami',\n",
       "    'http://it.wikipedia.org/wiki/Marito',\n",
       "    'http://ko.wikipedia.org/wiki/남편',\n",
       "    'http://no.wikipedia.org/wiki/Ektemann',\n",
       "    'http://ro.wikipedia.org/wiki/Soț',\n",
       "    'http://ru.wikipedia.org/wiki/Муж',\n",
       "    'http://sv.wikipedia.org/wiki/Make_(äktenskap)',\n",
       "    'http://zh.wikipedia.org/wiki/丈夫',\n",
       "    'http://d-nb.info/gnd/4070668-0',\n",
       "    'sumo:Human'],\n",
       "   'variant_list': [{'endp': '39', 'form': 'husband', 'inip': '33'},\n",
       "    {'endp': '166', 'form': 'husband', 'inip': '160'}]}],\n",
       " 'entity_list': [],\n",
       " 'money_expression_list': [],\n",
       " 'other_expression_list': [],\n",
       " 'quantity_expression_list': [],\n",
       " 'quotation_list': [{'endp': '225',\n",
       "   'form': 'the husband was carrying on an intrigue with a French girl, who had been a governess in their family, and she had announced to her husband that she could not go on living in the same house with him',\n",
       "   'inip': '29',\n",
       "   'verb': {'form': 'had discovered', 'lemma': 'discover'},\n",
       "   'who': {'form': 'The wife', 'lemma': 'wife'}}],\n",
       " 'relation_list': [{'complement_list': [{'form': 'that the husband was carrying on an intrigue with a French girl',\n",
       "     'type': 'isDirectObject'}],\n",
       "   'degree': '1',\n",
       "   'endp': '128',\n",
       "   'form': 'The wife had discovered that the husband was carrying on an intrigue with a French girl, who had been a governess in their family, and she had announced to her husband that she could not go on living in the same house with him',\n",
       "   'inip': '0',\n",
       "   'subject': {'form': 'The wife',\n",
       "    'lemma_list': ['wife'],\n",
       "    'sense_id_list': ['07e4b91de9']},\n",
       "   'verb': {'form': 'had discovered', 'lemma_list': ['discover']}},\n",
       "  {'complement_list': [{'form': 'a governess', 'type': 'isAttribute'},\n",
       "    {'form': 'in their family', 'type': 'isComplement'},\n",
       "    {'form': 'was carrying', 'type': 'isComplement'},\n",
       "    {'form': 'who had been a governess in their family',\n",
       "     'type': 'isNonRestrictiveApposition'}],\n",
       "   'degree': '1',\n",
       "   'endp': '128',\n",
       "   'form': 'The wife had discovered that the husband was carrying on an intrigue with a French girl, who had been a governess in their family, and she had announced to her husband that she could not go on living in the same house with him',\n",
       "   'inip': '89',\n",
       "   'subject': {'form': 'the husband',\n",
       "    'lemma_list': ['husband'],\n",
       "    'sense_id_list': ['6a17861b62']},\n",
       "   'verb': {'form': 'had been', 'lemma_list': ['be']}},\n",
       "  {'complement_list': [{'form': 'on an intrigue with a French girl',\n",
       "     'type': 'isComplement'}],\n",
       "   'degree': '1',\n",
       "   'endp': '86',\n",
       "   'form': 'The wife had discovered that the husband was carrying on an intrigue with a French girl, who had been a governess in their family, and she had announced to her husband that she could not go on living in the same house with him',\n",
       "   'inip': '24',\n",
       "   'subject': {'form': 'the husband',\n",
       "    'lemma_list': ['husband'],\n",
       "    'sense_id_list': ['6a17861b62']},\n",
       "   'verb': {'form': 'was carrying', 'lemma_list': ['carry']}},\n",
       "  {'complement_list': [{'form': 'to her husband', 'type': 'isComplement'}],\n",
       "   'degree': '1',\n",
       "   'endp': '225',\n",
       "   'form': 'The wife had discovered that the husband was carrying on an intrigue with a French girl, who had been a governess in their family, and she had announced to her husband that she could not go on living in the same house with him',\n",
       "   'inip': '135',\n",
       "   'subject': {'form': 'she',\n",
       "    'lemma_list': ['she'],\n",
       "    'sense_id_list': ['PRONHUMAN']},\n",
       "   'verb': {'form': 'had announced', 'lemma_list': ['announce']}},\n",
       "  {'complement_list': [],\n",
       "   'degree': '1',\n",
       "   'endp': '225',\n",
       "   'form': 'The wife had discovered that the husband was carrying on an intrigue with a French girl, who had been a governess in their family, and she had announced to her husband that she could not go on living in the same house with him',\n",
       "   'inip': '168',\n",
       "   'subject': {'form': 'she',\n",
       "    'lemma_list': ['she'],\n",
       "    'sense_id_list': ['PRONHUMAN']},\n",
       "   'verb': {'form': 'could not go on', 'lemma_list': ['go on']}}],\n",
       " 'status': {'code': '0',\n",
       "  'msg': 'OK',\n",
       "  'credits': '1',\n",
       "  'remaining_credits': '19998'},\n",
       " 'time_expression_list': []}"
      ]
     },
     "execution_count": 36,
     "metadata": {},
     "output_type": "execute_result"
    }
   ],
   "source": [
    "res"
   ]
  },
  {
   "cell_type": "markdown",
   "metadata": {},
   "source": [
    "Выделим из этого предложения отдельные связи, отвечающие за атомарные фрагменты смысла:"
   ]
  },
  {
   "cell_type": "code",
   "execution_count": 14,
   "metadata": {},
   "outputs": [
    {
     "name": "stdout",
     "output_type": "stream",
     "text": [
      "['family'] -> ['be'] -> all alike, in confusion, in the Oblonskys, unhappy in its own way\n",
      "['family'] -> ['house'] -> \n",
      "['wife'] -> ['discover'] -> that the husband was carrying on an intrigue with a French girl\n",
      "['husband'] -> ['be'] -> a governess, in their family, was carrying, who had been a governess in their family, at home for three days\n",
      "['husband'] -> ['carry'] -> on an intrigue with a French girl\n",
      "['she'] -> ['be'] -> sense\n",
      "['she'] -> ['yes'] -> \n",
      "['she'] -> ['there was'] -> no sense, in their living, together\n",
      "['she'] -> ['announce'] -> to her husband\n",
      "['she'] -> ['go on'] -> \n",
      "['position'] -> ['last'] -> now, three days\n",
      "['member'] -> ['be'] -> position\n",
      "['person'] -> ['feel'] -> that there was no sense in their living together\n",
      "['people'] -> ['bring'] -> together by chance, in any inn had more in common with one another than they\n",
      "['wife'] -> ['leave'] -> her own room\n",
      "['child'] -> ['run'] -> wild, all over\n",
      "['governess'] -> ['write'] -> to a friend\n",
      "['governess'] -> ['quarrel'] -> with the housekeeper\n",
      "['man'] -> ['walk'] -> off the day, just, at dinner time\n",
      "['coachman'] -> ['give'] -> warning\n",
      "['Stepan Arkadyevitch Oblonsky'] -> ['open'] -> his eyes\n",
      "['Stepan Arkadyevitch Oblonsky'] -> ['sit'] -> up, on the sofa\n",
      "['Stepan Arkadyevitch Oblonsky'] -> ['bury'] -> his face, face\n",
      "['Stepan Arkadyevitch Oblonsky'] -> ['be'] -> at eight o’clock in the morning, not, in his wife’s bedroom, Prince Stepan Arkadyevitch Oblonsky, Prince Stepan Arkadyevitch Oblonsky\n",
      "['Stepan Arkadyevitch Oblonsky'] -> ['wake up'] -> at his usual hour\n",
      "['Stepan Arkadyevitch Oblonsky'] -> ['call'] -> in the fashionable world\n",
      "['at'] -> ['be'] -> woke up, that is\n",
      "['Stepan Arkadyevitch Oblonsky'] -> ['turn over'] -> \n",
      "['Stepan Arkadyevitch Oblonsky'] -> ['sink'] -> into a long sleep, again\n",
      "['Stepan Arkadyevitch Oblonsky'] -> ['embrace'] -> vigorously, the pillow, on the other side\n",
      "['Stepan Arkadyevitch Oblonsky'] -> ['jump'] -> at once, up\n",
      "['Stepan Arkadyevitch Oblonsky'] -> ['think'] -> \n",
      "['now'] -> ['be'] -> how was it?\n",
      "['Alabin'] -> ['give'] -> a dinner, at Darmstadt, Yes, a dinner on glass tables\n",
      "['Darmstadt'] -> ['be'] -> then, in America, Yes, nice\n",
      "['table'] -> ['sing'] -> \n",
      "['Il'] -> ['work'] -> Darmstadt, by his wife on gold-colored morocco\n",
      "['Il'] -> ['feel'] -> about, feet, for his slippers\n",
      "['Il'] -> ['gleam'] -> of light peeping in beside one of the serge curtains\n",
      "['Il'] -> ['awake'] -> \n",
      "['Il'] -> ['be', 'have'] -> even, thoughts\n",
      "['Il'] -> ['putt'] -> Darmstadt, into words\n",
      "['Il'] -> ['There was'] -> \n",
      "['Il'] -> ['there were'] -> some sort of little, decanters on the table\n",
      "['table'] -> ['be'] -> women, too\n",
      "['Il'] -> ['remember'] -> thereupon, suddenly, that he was not sleeping in his wife’s room\n",
      "['eye'] -> ['twinkle'] -> gaily\n",
      "['Il'] -> ['ponder'] -> with a smile\n",
      "['that'] -> ['be'] -> delightful, only there, no\n",
      "['Il'] -> ['drop'] -> his feet over the edge of the sofa\n",
      "['Il'] -> ['do'] -> every day, for the last nine years\n",
      "['Il'] -> ['stretch'] -> as he had done every day for the last nine years, out\n",
      "['dressing gown'] -> ['hang'] -> in his bedroom\n",
      "['Il'] -> ['sleep'] -> in his wife’s room\n",
      "['smile'] -> ['vanish'] -> from his face\n",
      "['Il'] -> ['knit'] -> his brows\n"
     ]
    }
   ],
   "source": [
    "def complist(l):\n",
    "    return ', '.join([x['form'] for x in l])\n",
    "\n",
    "for r in res['relation_list']:\n",
    "    print(f\"{r['subject']['lemma_list']} -> {r['verb']['lemma_list']} -> {complist(r['complement_list'])}\")"
   ]
  },
  {
   "cell_type": "code",
   "execution_count": null,
   "metadata": {},
   "outputs": [],
   "source": []
  }
 ],
 "metadata": {
  "kernelspec": {
   "display_name": "Python 3.9.12 ('base')",
   "language": "python",
   "name": "python3"
  },
  "language_info": {
   "codemirror_mode": {
    "name": "ipython",
    "version": 3
   },
   "file_extension": ".py",
   "mimetype": "text/x-python",
   "name": "python",
   "nbconvert_exporter": "python",
   "pygments_lexer": "ipython3",
   "version": "3.9.12"
  },
  "orig_nbformat": 4,
  "vscode": {
   "interpreter": {
    "hash": "d21c24a7952cc9fa93a33c3da71b373ffe761d6ab0c9cc9b2153e31da51ffb58"
   }
  }
 },
 "nbformat": 4,
 "nbformat_minor": 2
}
